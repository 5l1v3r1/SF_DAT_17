{
 "cells": [
  {
   "cell_type": "code",
   "execution_count": null,
   "metadata": {
    "collapsed": false
   },
   "outputs": [],
   "source": [
    "import random\n",
    "import numpy as np\n",
    "import pandas as pd\n",
    "import seaborn as sns\n",
    "import matplotlib.pyplot as plt\n",
    "\n",
    "from IPython.display import HTML\n",
    "\n",
    "%matplotlib inline"
   ]
  },
  {
   "cell_type": "markdown",
   "metadata": {},
   "source": [
    "## Visualizations"
   ]
  },
  {
   "cell_type": "markdown",
   "metadata": {},
   "source": [
    "Matplotlib:\n",
    "http://matplotlib.org/gallery.html\n",
    "\n",
    "Seaborn:\n",
    "http://web.stanford.edu/~mwaskom/software/seaborn/examples/index.html\n",
    "\n",
    "Plot.ly:\n",
    "https://plot.ly/python/\n",
    "\n",
    "Tufte:\n",
    "\n",
    "http://www.edwardtufte.com/tufte/\n",
    "\n",
    "\n",
    "Flat Colors:\n",
    "\n",
    "http://flatuicolors.com/#"
   ]
  },
  {
   "cell_type": "markdown",
   "metadata": {},
   "source": [
    "# Matplotlib"
   ]
  },
  {
   "cell_type": "code",
   "execution_count": null,
   "metadata": {
    "collapsed": false
   },
   "outputs": [],
   "source": [
    "plt.plot([0,1], [0,1])\n",
    "plt.title(\"Here's a really basic plot\", size=24)"
   ]
  },
  {
   "cell_type": "markdown",
   "metadata": {},
   "source": [
    "### What about two plots"
   ]
  },
  {
   "cell_type": "code",
   "execution_count": null,
   "metadata": {
    "collapsed": false
   },
   "outputs": [],
   "source": [
    "fig = plt.figure(figsize=(10,6))\n",
    "\n",
    "ax = fig.add_subplot(2,1,1)\n",
    "# Random number between 1 and 100\n",
    "ax.scatter([np.random.randint(1,100) for x in range(0,1000)], np.ones(1000) * 2, alpha=0.1, s=15)\n",
    "\n",
    "\n",
    "ax = fig.add_subplot(2,1,2)\n",
    "# Random sample for a normal distribution\n",
    "ax.scatter([np.random.normal() for x in range(0, 1000)], np.ones(1000) * 2, alpha=0.1, s=15)\n"
   ]
  },
  {
   "cell_type": "markdown",
   "metadata": {},
   "source": [
    "## NFL Combine datasets"
   ]
  },
  {
   "cell_type": "code",
   "execution_count": null,
   "metadata": {
    "collapsed": false
   },
   "outputs": [],
   "source": [
    "combine_data = pd.read_csv(\"../data/combine.csv\")\n",
    "combine_data = combine_data.dropna()  # dropna() is crude - be careful with it\n",
    "combine_data['HeightInchesTotal'] = combine_data['HeightFeet'] * 12 + combine_data['HeightInches']\n",
    "combine_data.head()"
   ]
  },
  {
   "cell_type": "code",
   "execution_count": null,
   "metadata": {
    "collapsed": true
   },
   "outputs": [],
   "source": []
  },
  {
   "cell_type": "markdown",
   "metadata": {},
   "source": [
    "# Histogram\n",
    "* Examine the distributionof a single variable\n",
    "* bins data into intervals\n",
    "\n",
    "# KDE - Kernel Density estimate\n",
    "* Seaborn\n",
    "* probability density function (normalization)"
   ]
  },
  {
   "cell_type": "code",
   "execution_count": null,
   "metadata": {
    "collapsed": false
   },
   "outputs": [],
   "source": [
    "fig = plt.figure(figsize=(20,10))\n",
    "\n",
    "ax = fig.add_subplot(1,2,1)\n",
    "\n",
    "ax.hist(combine_data.FortyYD[(combine_data.FortyYD > 0)].values)\n",
    "\n",
    "ax.set_title(\"40 times - combine participants\", size=32)\n",
    "ax.set_xlabel(\"Forty Yard Dash Time (seconds)\", size=24)\n",
    "ax.set_ylabel(\"Count\", size=24)\n",
    "ax.tick_params(axis='both', which='major', labelsize=16)\n",
    "\n",
    "\n",
    "ax = fig.add_subplot(1,2,2)\n",
    "\n",
    "sns.kdeplot(combine_data.FortyYD[(combine_data.FortyYD > 0)].values, shade=True, color=\"#3498db\")\n",
    "\n",
    "ax.set_title(\"40 times - combine participants\", size=32)\n",
    "ax.set_xlabel(\"Forty Yard Dash Time (seconds)\", size=24)\n",
    "ax.set_ylabel(\"Density\", size=24)\n",
    "ax.tick_params(axis='both', which='major', labelsize=16)\n",
    "\n",
    "\n",
    "print"
   ]
  },
  {
   "cell_type": "markdown",
   "metadata": {},
   "source": [
    "# Class exercise - plot 40 times by position using a KDE plot\n",
    "\n",
    "- positions to plot WR, CB, DE, OT"
   ]
  },
  {
   "cell_type": "code",
   "execution_count": null,
   "metadata": {
    "collapsed": true
   },
   "outputs": [],
   "source": []
  },
  {
   "cell_type": "markdown",
   "metadata": {},
   "source": [
    "## Boxplots"
   ]
  },
  {
   "cell_type": "markdown",
   "metadata": {},
   "source": [
    "- used to look at multiple variable distributions\n",
    "- indicates dispersion and outliers\n",
    "- bottom of box 25th (Q1) percentile, top 75th (Q3) percentile, whiskers different for each boxplot, usually 1.5 * IQR \n",
    "- IQR - Q3 - Q1"
   ]
  },
  {
   "cell_type": "code",
   "execution_count": null,
   "metadata": {
    "collapsed": false
   },
   "outputs": [],
   "source": [
    "#build a dataset\n",
    "positions = ['WR','CB','RB','DE','DT','OT']\n",
    "weight_vector, speed_vector = [], []\n",
    "for position in positions:\n",
    "    weight_vector.append(combine_data.Weight[(combine_data.Position == position)].values)\n",
    "    speed_vector.append(combine_data.FortyYD[(combine_data.Position == position)].values)\n",
    "\n",
    "fig = plt.figure(figsize=(18,15))\n",
    "fig.subplots_adjust(hspace=0.5)\n",
    "sns.set_style('whitegrid')\n",
    "\n",
    "#subplots - (column, row, plot index)\n",
    "ax = fig.add_subplot(2,1,1)\n",
    "ax.boxplot(weight_vector)\n",
    "ax.set_title(\"Weight Distribution\", size=32)\n",
    "ax.set_xticklabels(positions, size=20)\n",
    "ax.tick_params(axis='y', which='major', labelsize=16)\n",
    "\n",
    "ax = fig.add_subplot(2,1,2)\n",
    "ax.boxplot(speed_vector)\n",
    "ax.set_title(\"Speed Distribution\", size=32)\n",
    "ax.set_xticklabels(positions, size=20)\n",
    "ax.tick_params(axis='y', which='major', labelsize=16)\n",
    "\n",
    "print"
   ]
  },
  {
   "cell_type": "markdown",
   "metadata": {},
   "source": [
    "## Scatterplot"
   ]
  },
  {
   "cell_type": "markdown",
   "metadata": {},
   "source": [
    "- explore the relation between two variables"
   ]
  },
  {
   "cell_type": "code",
   "execution_count": null,
   "metadata": {
    "collapsed": false
   },
   "outputs": [],
   "source": [
    "weight_vector, height_vector = [], []\n",
    "position_vector = ['CB','WR','RB','DE','DT','OT']\n",
    "#color_vector = ['#e74c3c','#e67e22','#f1c40f','#2ecc71','#3498db','#9b59b6']\n",
    "#position_color = {x:y for x, y in zip(position_vector, color_vector)}\n",
    "\n",
    "fig = plt.figure(figsize=(20,12))\n",
    "sns.set_style('whitegrid')\n",
    "ax = fig.add_subplot(1,1,1)\n",
    "\n",
    "for position in position_vector:\n",
    "    position_subset = combine_data['Position'] == position\n",
    "    x_vector = combine_data.HeightInchesTotal[position_subset].values\n",
    "    #x_vector = [x + random.random() for x in x_vector]\n",
    "    \n",
    "    y_vector = combine_data.Weight[position_subset].values\n",
    "    #ax.scatter(x_vector, y_vector, color=position_color[position])\n",
    "\n",
    "    ax.scatter(x_vector, y_vector)\n",
    "\n",
    "\n",
    "ax.set_title(\"Height Weight of NFL Combine Participants by Position\", size=28)\n",
    "ax.set_ylabel(\"Weight\", size=24)\n",
    "ax.set_xlabel(\"Height (Inches)\", size=24)\n",
    "ax.legend(position_vector, fontsize=20, loc=2)\n",
    "\n",
    "ax.tick_params(axis='both', which='major', labelsize=16)\n",
    "\n",
    "\n",
    "print"
   ]
  },
  {
   "cell_type": "code",
   "execution_count": null,
   "metadata": {
    "collapsed": true
   },
   "outputs": [],
   "source": []
  }
 ],
 "metadata": {
  "kernelspec": {
   "display_name": "Python 2",
   "language": "python",
   "name": "python2"
  },
  "language_info": {
   "codemirror_mode": {
    "name": "ipython",
    "version": 2
   },
   "file_extension": ".py",
   "mimetype": "text/x-python",
   "name": "python",
   "nbconvert_exporter": "python",
   "pygments_lexer": "ipython2",
   "version": "2.7.6"
  }
 },
 "nbformat": 4,
 "nbformat_minor": 0
}
